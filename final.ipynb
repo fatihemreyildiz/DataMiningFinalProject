{
 "cells": [
  {
   "cell_type": "code",
   "execution_count": 1,
   "metadata": {},
   "outputs": [],
   "source": [
    "#%matplotlib widget"
   ]
  },
  {
   "cell_type": "code",
   "execution_count": 2,
   "metadata": {},
   "outputs": [],
   "source": [
    "import pandas as pd\n",
    "import numpy as np"
   ]
  },
  {
   "cell_type": "markdown",
   "metadata": {},
   "source": [
    "# Load CSV Files"
   ]
  },
  {
   "cell_type": "code",
   "execution_count": 3,
   "metadata": {},
   "outputs": [],
   "source": [
    "dataset1 = pd.read_csv(\"dataset/Challenger_Ranked_Games.csv\")\n",
    "dataset2 = pd.read_csv(\"dataset/GrandMaster_Ranked_Games.csv\")\n",
    "dataset3 = pd.read_csv(\"dataset/Master_Ranked_Games.csv\")"
   ]
  },
  {
   "cell_type": "markdown",
   "metadata": {},
   "source": [
    "# Combine CSV Files"
   ]
  },
  {
   "cell_type": "code",
   "execution_count": 4,
   "metadata": {},
   "outputs": [
    {
     "data": {
      "text/html": [
       "<div>\n",
       "<style scoped>\n",
       "    .dataframe tbody tr th:only-of-type {\n",
       "        vertical-align: middle;\n",
       "    }\n",
       "\n",
       "    .dataframe tbody tr th {\n",
       "        vertical-align: top;\n",
       "    }\n",
       "\n",
       "    .dataframe thead th {\n",
       "        text-align: right;\n",
       "    }\n",
       "</style>\n",
       "<table border=\"1\" class=\"dataframe\">\n",
       "  <thead>\n",
       "    <tr style=\"text-align: right;\">\n",
       "      <th></th>\n",
       "      <th>gameId</th>\n",
       "      <th>gameDuraton</th>\n",
       "      <th>blueWins</th>\n",
       "      <th>blueFirstBlood</th>\n",
       "      <th>blueFirstTower</th>\n",
       "      <th>blueFirstBaron</th>\n",
       "      <th>blueFirstDragon</th>\n",
       "      <th>blueFirstInhibitor</th>\n",
       "      <th>blueDragonKills</th>\n",
       "      <th>blueBaronKills</th>\n",
       "      <th>...</th>\n",
       "      <th>redAssist</th>\n",
       "      <th>redChampionDamageDealt</th>\n",
       "      <th>redTotalGold</th>\n",
       "      <th>redTotalMinionKills</th>\n",
       "      <th>redTotalLevel</th>\n",
       "      <th>redAvgLevel</th>\n",
       "      <th>redJungleMinionKills</th>\n",
       "      <th>redKillingSpree</th>\n",
       "      <th>redTotalHeal</th>\n",
       "      <th>redObjectDamageDealt</th>\n",
       "    </tr>\n",
       "  </thead>\n",
       "  <tbody>\n",
       "    <tr>\n",
       "      <th>0</th>\n",
       "      <td>4247263043</td>\n",
       "      <td>1323</td>\n",
       "      <td>0</td>\n",
       "      <td>1</td>\n",
       "      <td>0</td>\n",
       "      <td>0</td>\n",
       "      <td>0</td>\n",
       "      <td>0</td>\n",
       "      <td>0</td>\n",
       "      <td>0</td>\n",
       "      <td>...</td>\n",
       "      <td>68</td>\n",
       "      <td>73016</td>\n",
       "      <td>49832</td>\n",
       "      <td>533</td>\n",
       "      <td>64</td>\n",
       "      <td>12.8</td>\n",
       "      <td>138</td>\n",
       "      <td>8</td>\n",
       "      <td>38711</td>\n",
       "      <td>60463</td>\n",
       "    </tr>\n",
       "    <tr>\n",
       "      <th>1</th>\n",
       "      <td>4247155821</td>\n",
       "      <td>1317</td>\n",
       "      <td>1</td>\n",
       "      <td>0</td>\n",
       "      <td>0</td>\n",
       "      <td>0</td>\n",
       "      <td>1</td>\n",
       "      <td>0</td>\n",
       "      <td>2</td>\n",
       "      <td>0</td>\n",
       "      <td>...</td>\n",
       "      <td>8</td>\n",
       "      <td>44218</td>\n",
       "      <td>37136</td>\n",
       "      <td>571</td>\n",
       "      <td>59</td>\n",
       "      <td>11.8</td>\n",
       "      <td>134</td>\n",
       "      <td>3</td>\n",
       "      <td>24829</td>\n",
       "      <td>14105</td>\n",
       "    </tr>\n",
       "    <tr>\n",
       "      <th>2</th>\n",
       "      <td>4243963257</td>\n",
       "      <td>932</td>\n",
       "      <td>0</td>\n",
       "      <td>0</td>\n",
       "      <td>0</td>\n",
       "      <td>0</td>\n",
       "      <td>0</td>\n",
       "      <td>0</td>\n",
       "      <td>0</td>\n",
       "      <td>0</td>\n",
       "      <td>...</td>\n",
       "      <td>20</td>\n",
       "      <td>30797</td>\n",
       "      <td>35364</td>\n",
       "      <td>400</td>\n",
       "      <td>50</td>\n",
       "      <td>10.0</td>\n",
       "      <td>89</td>\n",
       "      <td>5</td>\n",
       "      <td>12589</td>\n",
       "      <td>45201</td>\n",
       "    </tr>\n",
       "    <tr>\n",
       "      <th>3</th>\n",
       "      <td>4241678498</td>\n",
       "      <td>2098</td>\n",
       "      <td>0</td>\n",
       "      <td>0</td>\n",
       "      <td>0</td>\n",
       "      <td>1</td>\n",
       "      <td>1</td>\n",
       "      <td>0</td>\n",
       "      <td>1</td>\n",
       "      <td>1</td>\n",
       "      <td>...</td>\n",
       "      <td>72</td>\n",
       "      <td>125866</td>\n",
       "      <td>70528</td>\n",
       "      <td>832</td>\n",
       "      <td>84</td>\n",
       "      <td>16.8</td>\n",
       "      <td>205</td>\n",
       "      <td>9</td>\n",
       "      <td>65312</td>\n",
       "      <td>88202</td>\n",
       "    </tr>\n",
       "    <tr>\n",
       "      <th>4</th>\n",
       "      <td>4241538868</td>\n",
       "      <td>2344</td>\n",
       "      <td>1</td>\n",
       "      <td>1</td>\n",
       "      <td>1</td>\n",
       "      <td>1</td>\n",
       "      <td>1</td>\n",
       "      <td>1</td>\n",
       "      <td>2</td>\n",
       "      <td>2</td>\n",
       "      <td>...</td>\n",
       "      <td>83</td>\n",
       "      <td>131536</td>\n",
       "      <td>74596</td>\n",
       "      <td>794</td>\n",
       "      <td>85</td>\n",
       "      <td>17.0</td>\n",
       "      <td>227</td>\n",
       "      <td>7</td>\n",
       "      <td>86431</td>\n",
       "      <td>64141</td>\n",
       "    </tr>\n",
       "    <tr>\n",
       "      <th>...</th>\n",
       "      <td>...</td>\n",
       "      <td>...</td>\n",
       "      <td>...</td>\n",
       "      <td>...</td>\n",
       "      <td>...</td>\n",
       "      <td>...</td>\n",
       "      <td>...</td>\n",
       "      <td>...</td>\n",
       "      <td>...</td>\n",
       "      <td>...</td>\n",
       "      <td>...</td>\n",
       "      <td>...</td>\n",
       "      <td>...</td>\n",
       "      <td>...</td>\n",
       "      <td>...</td>\n",
       "      <td>...</td>\n",
       "      <td>...</td>\n",
       "      <td>...</td>\n",
       "      <td>...</td>\n",
       "      <td>...</td>\n",
       "      <td>...</td>\n",
       "    </tr>\n",
       "    <tr>\n",
       "      <th>199920</th>\n",
       "      <td>4216107910</td>\n",
       "      <td>2479</td>\n",
       "      <td>1</td>\n",
       "      <td>1</td>\n",
       "      <td>0</td>\n",
       "      <td>0</td>\n",
       "      <td>0</td>\n",
       "      <td>0</td>\n",
       "      <td>3</td>\n",
       "      <td>1</td>\n",
       "      <td>...</td>\n",
       "      <td>41</td>\n",
       "      <td>149798</td>\n",
       "      <td>72167</td>\n",
       "      <td>789</td>\n",
       "      <td>86</td>\n",
       "      <td>17.2</td>\n",
       "      <td>258</td>\n",
       "      <td>6</td>\n",
       "      <td>34890</td>\n",
       "      <td>62124</td>\n",
       "    </tr>\n",
       "    <tr>\n",
       "      <th>199921</th>\n",
       "      <td>4031558534</td>\n",
       "      <td>932</td>\n",
       "      <td>0</td>\n",
       "      <td>0</td>\n",
       "      <td>0</td>\n",
       "      <td>0</td>\n",
       "      <td>0</td>\n",
       "      <td>0</td>\n",
       "      <td>0</td>\n",
       "      <td>0</td>\n",
       "      <td>...</td>\n",
       "      <td>26</td>\n",
       "      <td>37534</td>\n",
       "      <td>32931</td>\n",
       "      <td>364</td>\n",
       "      <td>51</td>\n",
       "      <td>10.2</td>\n",
       "      <td>110</td>\n",
       "      <td>5</td>\n",
       "      <td>11983</td>\n",
       "      <td>31400</td>\n",
       "    </tr>\n",
       "    <tr>\n",
       "      <th>199922</th>\n",
       "      <td>3882136458</td>\n",
       "      <td>2081</td>\n",
       "      <td>0</td>\n",
       "      <td>1</td>\n",
       "      <td>1</td>\n",
       "      <td>0</td>\n",
       "      <td>0</td>\n",
       "      <td>0</td>\n",
       "      <td>1</td>\n",
       "      <td>0</td>\n",
       "      <td>...</td>\n",
       "      <td>68</td>\n",
       "      <td>97369</td>\n",
       "      <td>71576</td>\n",
       "      <td>797</td>\n",
       "      <td>85</td>\n",
       "      <td>17.0</td>\n",
       "      <td>222</td>\n",
       "      <td>8</td>\n",
       "      <td>33499</td>\n",
       "      <td>79612</td>\n",
       "    </tr>\n",
       "    <tr>\n",
       "      <th>199923</th>\n",
       "      <td>4137464714</td>\n",
       "      <td>1619</td>\n",
       "      <td>0</td>\n",
       "      <td>0</td>\n",
       "      <td>0</td>\n",
       "      <td>0</td>\n",
       "      <td>0</td>\n",
       "      <td>0</td>\n",
       "      <td>1</td>\n",
       "      <td>0</td>\n",
       "      <td>...</td>\n",
       "      <td>68</td>\n",
       "      <td>116262</td>\n",
       "      <td>59001</td>\n",
       "      <td>524</td>\n",
       "      <td>72</td>\n",
       "      <td>14.4</td>\n",
       "      <td>162</td>\n",
       "      <td>11</td>\n",
       "      <td>52292</td>\n",
       "      <td>60903</td>\n",
       "    </tr>\n",
       "    <tr>\n",
       "      <th>199924</th>\n",
       "      <td>4195660684</td>\n",
       "      <td>1129</td>\n",
       "      <td>1</td>\n",
       "      <td>0</td>\n",
       "      <td>1</td>\n",
       "      <td>0</td>\n",
       "      <td>0</td>\n",
       "      <td>1</td>\n",
       "      <td>1</td>\n",
       "      <td>0</td>\n",
       "      <td>...</td>\n",
       "      <td>4</td>\n",
       "      <td>33263</td>\n",
       "      <td>26963</td>\n",
       "      <td>423</td>\n",
       "      <td>47</td>\n",
       "      <td>9.4</td>\n",
       "      <td>71</td>\n",
       "      <td>1</td>\n",
       "      <td>12749</td>\n",
       "      <td>8035</td>\n",
       "    </tr>\n",
       "  </tbody>\n",
       "</table>\n",
       "<p>199925 rows × 50 columns</p>\n",
       "</div>"
      ],
      "text/plain": [
       "            gameId  gameDuraton  blueWins  blueFirstBlood  blueFirstTower  \\\n",
       "0       4247263043         1323         0               1               0   \n",
       "1       4247155821         1317         1               0               0   \n",
       "2       4243963257          932         0               0               0   \n",
       "3       4241678498         2098         0               0               0   \n",
       "4       4241538868         2344         1               1               1   \n",
       "...            ...          ...       ...             ...             ...   \n",
       "199920  4216107910         2479         1               1               0   \n",
       "199921  4031558534          932         0               0               0   \n",
       "199922  3882136458         2081         0               1               1   \n",
       "199923  4137464714         1619         0               0               0   \n",
       "199924  4195660684         1129         1               0               1   \n",
       "\n",
       "        blueFirstBaron  blueFirstDragon  blueFirstInhibitor  blueDragonKills  \\\n",
       "0                    0                0                   0                0   \n",
       "1                    0                1                   0                2   \n",
       "2                    0                0                   0                0   \n",
       "3                    1                1                   0                1   \n",
       "4                    1                1                   1                2   \n",
       "...                ...              ...                 ...              ...   \n",
       "199920               0                0                   0                3   \n",
       "199921               0                0                   0                0   \n",
       "199922               0                0                   0                1   \n",
       "199923               0                0                   0                1   \n",
       "199924               0                0                   1                1   \n",
       "\n",
       "        blueBaronKills  ...  redAssist  redChampionDamageDealt  redTotalGold  \\\n",
       "0                    0  ...         68                   73016         49832   \n",
       "1                    0  ...          8                   44218         37136   \n",
       "2                    0  ...         20                   30797         35364   \n",
       "3                    1  ...         72                  125866         70528   \n",
       "4                    2  ...         83                  131536         74596   \n",
       "...                ...  ...        ...                     ...           ...   \n",
       "199920               1  ...         41                  149798         72167   \n",
       "199921               0  ...         26                   37534         32931   \n",
       "199922               0  ...         68                   97369         71576   \n",
       "199923               0  ...         68                  116262         59001   \n",
       "199924               0  ...          4                   33263         26963   \n",
       "\n",
       "        redTotalMinionKills  redTotalLevel  redAvgLevel  redJungleMinionKills  \\\n",
       "0                       533             64         12.8                   138   \n",
       "1                       571             59         11.8                   134   \n",
       "2                       400             50         10.0                    89   \n",
       "3                       832             84         16.8                   205   \n",
       "4                       794             85         17.0                   227   \n",
       "...                     ...            ...          ...                   ...   \n",
       "199920                  789             86         17.2                   258   \n",
       "199921                  364             51         10.2                   110   \n",
       "199922                  797             85         17.0                   222   \n",
       "199923                  524             72         14.4                   162   \n",
       "199924                  423             47          9.4                    71   \n",
       "\n",
       "        redKillingSpree  redTotalHeal  redObjectDamageDealt  \n",
       "0                     8         38711                 60463  \n",
       "1                     3         24829                 14105  \n",
       "2                     5         12589                 45201  \n",
       "3                     9         65312                 88202  \n",
       "4                     7         86431                 64141  \n",
       "...                 ...           ...                   ...  \n",
       "199920                6         34890                 62124  \n",
       "199921                5         11983                 31400  \n",
       "199922                8         33499                 79612  \n",
       "199923               11         52292                 60903  \n",
       "199924                1         12749                  8035  \n",
       "\n",
       "[199925 rows x 50 columns]"
      ]
     },
     "execution_count": 4,
     "metadata": {},
     "output_type": "execute_result"
    }
   ],
   "source": [
    "mergeddataset = pd.concat([dataset1,dataset2,dataset3])\n",
    "mergeddataset.reset_index(drop=True)"
   ]
  },
  {
   "cell_type": "markdown",
   "metadata": {},
   "source": [
    "We will Delete games which is less than 300 seconds."
   ]
  },
  {
   "cell_type": "code",
   "execution_count": 5,
   "metadata": {},
   "outputs": [],
   "source": [
    "mergeddataset = mergeddataset[~(mergeddataset[\"gameDuraton\"] <1200)]"
   ]
  },
  {
   "cell_type": "markdown",
   "metadata": {},
   "source": [
    "we will apply reduntant features technic for 8 columns they will convert to binary presentiotan in 6 column\n",
    "B = 0, R = 1\n",
    "- (blueWins, redWins) ->winner\n",
    "- (blueFirstBlood, redFirstBlood) -> firstBlood\n",
    "- (blueFirstInhibitor, redFirstInhibitor) -> firstInhibtor \n",
    "- (blueFirstBaron, redFirstBaron) -> firstBaron\n",
    "- (blueFirstDragon, redFirstDragon) -> firstDragon\n",
    "- (blueFirstTower, redFirstTower) -> firstTower\n",
    "- (redTotalLevel, redAvgLevel) -> redAvgLevel\n",
    "- (blueTotalLevel,  blueAvgLevel) -> blueAvgLevel"
   ]
  },
  {
   "cell_type": "code",
   "execution_count": 6,
   "metadata": {},
   "outputs": [],
   "source": [
    "for x in ['redWins', 'redFirstBlood', 'redFirstInhibitor', 'redFirstBaron', 'redFirstDragon', 'redFirstTower', 'gameId', 'redAvgLevel', 'blueAvgLevel']:\n",
    "    del mergeddataset[x]"
   ]
  },
  {
   "cell_type": "markdown",
   "metadata": {},
   "source": [
    "X_scaled"
   ]
  },
  {
   "cell_type": "code",
   "execution_count": 7,
   "metadata": {},
   "outputs": [],
   "source": [
    "Y = mergeddataset[\"blueWins\"].values\n",
    "del mergeddataset[\"blueWins\"]\n",
    "X = mergeddataset.values"
   ]
  },
  {
   "cell_type": "code",
   "execution_count": 8,
   "metadata": {},
   "outputs": [],
   "source": [
    "X_columns = mergeddataset.columns"
   ]
  },
  {
   "cell_type": "markdown",
   "metadata": {},
   "source": [
    "normalize data"
   ]
  },
  {
   "cell_type": "code",
   "execution_count": 9,
   "metadata": {},
   "outputs": [],
   "source": [
    "from sklearn import preprocessing\n",
    "X = mergeddataset.values\n",
    "min_max_scaler = preprocessing.MinMaxScaler()\n",
    "X_scaled = min_max_scaler.fit_transform(X)"
   ]
  },
  {
   "cell_type": "markdown",
   "metadata": {},
   "source": [
    "# functions"
   ]
  },
  {
   "cell_type": "code",
   "execution_count": 10,
   "metadata": {},
   "outputs": [],
   "source": [
    "from sklearn.metrics import mean_squared_error\n",
    "from time import time\n",
    "def test_model_avg(model_init_func, model_run_func, X_test, y_test, title=\"Results\", simulation_count=5):\n",
    "    print(f\"{title:^110}\")\n",
    "    print(\"{:<10}{:<40}{:<40}{:<40}\".format(\"#\", \"Training Time (ms)\", \"Error (cost)\", \"Score (%)\"))\n",
    "    print(f\"{'-'*110:^110}\")\n",
    "    times = []\n",
    "    costs = []\n",
    "    models = []\n",
    "    scores = []\n",
    "    for x in range(simulation_count):\n",
    "        clf = model_init_func()\n",
    "        start = time()\n",
    "        model_run_func(clf)\n",
    "        stop = time()\n",
    "        y_pred = clf.predict(X_test)\n",
    "        training_time = stop - start\n",
    "        error_cost = mean_squared_error(y_test, y_pred)\n",
    "        score = clf.score(X_test, y_test)\n",
    "        times += [training_time]\n",
    "        costs += [error_cost]\n",
    "        models += [clf]\n",
    "        scores += [score]\n",
    "        print(f\"{x+1:<10}{training_time * 1000:<40.2f}{error_cost:<40.6f}{score:<40.4f}\")\n",
    "    print(f\"{'-'*110:^110}\")\n",
    "    print(f\"{'Average':<10}{sum(times)/len(times) * 1000:<40.2f}{sum(costs)/len(costs):<40.6f}{sum(scores)/len(scores):<40.4f}\")\n",
    "    return models"
   ]
  },
  {
   "cell_type": "code",
   "execution_count": 11,
   "metadata": {},
   "outputs": [],
   "source": [
    "def average_feature_importance(models_features, extract_future_func):\n",
    "    return list(sorted(list(enumerate(list(map(lambda x: sum(x)/len(models),zip(*map(extract_future_func,models)))))), key=lambda i:i[1], reverse=True))"
   ]
  },
  {
   "cell_type": "code",
   "execution_count": 12,
   "metadata": {},
   "outputs": [],
   "source": [
    "def calculate_feature_importance(features):\n",
    "    features = list(features)\n",
    "    class_1_feature_list = sorted(filter(lambda x: x[1] > 0,features), key=lambda i:i[1], reverse=True)\n",
    "    class_0_feature_list = sorted(filter(lambda x: x[1] < 0,features),key=lambda i:i[1])\n",
    "    return class_0_feature_list, class_1_feature_list"
   ]
  },
  {
   "cell_type": "code",
   "execution_count": 13,
   "metadata": {},
   "outputs": [],
   "source": [
    "import matplotlib.pyplot as plt\n",
    "def visualize_feature_importance(class_0_feature_list, class_1_feature_list, column_names, feature_count=3, class_count=2):\n",
    "    fig, axis = plt.subplots(1,class_count)\n",
    "    fig.tight_layout()\n",
    "    if not isinstance(axis , np.ndarray):\n",
    "        axis = [axis]\n",
    "    fig.set_size_inches((2*class_count) * feature_count, 6)\n",
    "    fC = list(range(0,feature_count))\n",
    "    for bar in zip(axis, [class_0_feature_list[:feature_count], class_1_feature_list[:feature_count]], range(class_count)):\n",
    "        bar[0].set_title(f\"Class {bar[2]} Weight Importance\")\n",
    "        bar[0].set_xticks(fC)\n",
    "        bar[0].set_xticklabels(list(map(lambda x: column_names[x[0]],bar[1])))\n",
    "        bar[0].bar(fC, list(map(lambda x: abs(x[1]),bar[1])))\n",
    "    return fig"
   ]
  },
  {
   "cell_type": "code",
   "execution_count": 14,
   "metadata": {},
   "outputs": [],
   "source": [
    "import matplotlib.pyplot as plt\n",
    "def visualize_decision_boundary(clf, f1, f2, X_train, y_train, X_test, y_test, X_columns):\n",
    "    coef = clf.coef_\n",
    "    c = clf.classes_[0]\n",
    "    intercept = clf.intercept_\n",
    "    def line(x0):\n",
    "      return (-(x0 * coef[c, f1]) - intercept[c]) / coef[c, f2]\n",
    "    fig, (train_plt, test_plt) = plt.subplots(1, 2)\n",
    "    fig.tight_layout()\n",
    "    train_plt.plot(X_train[y_train==0,f1], X_train[y_train==0,f2], 'rx', label='Class0')\n",
    "    train_plt.plot(X_train[y_train==1,f1], X_train[y_train==1,f2], 'bo', label='Class1')\n",
    "    train_plt.set_title(\"Train Data\")\n",
    "    train_plt.set_xlabel(X_columns[f1])\n",
    "    train_plt.set_ylabel(X_columns[f2])\n",
    "    test_plt.plot(X_test[y_test==0,f1], X_test[y_test==0,f2], 'rx', label=\"Class0\")\n",
    "    test_plt.plot(X_test[y_test==1,f1], X_test[y_test==1,f2], 'bo', label=\"Class1\")\n",
    "    xmin, xmax = test_plt.get_xlim()\n",
    "    ymin, ymax = test_plt.get_ylim()\n",
    "    test_plt.plot([xmin, xmax], [line(xmin), line(xmax)], ls=\"--\", color=\"black\", label=\"hypothesis\")\n",
    "    test_plt.set_title(\"Test Data\")\n",
    "    test_plt.set_xlabel(X_columns[f1])\n",
    "    test_plt.set_ylabel(X_columns[f2])\n",
    "    train_plt.legend()\n",
    "    test_plt.legend()\n",
    "    return fig"
   ]
  },
  {
   "cell_type": "code",
   "execution_count": 15,
   "metadata": {},
   "outputs": [],
   "source": [
    "from sklearn.inspection import permutation_importance\n",
    "def sckit_permutation_importance(clf,X,y):\n",
    "    return permutation_importance(clf, X, y).importances_mean\n",
    "\n",
    "def coef_permutation_importance(x):\n",
    "    return x.coef_[0]\n"
   ]
  },
  {
   "cell_type": "code",
   "execution_count": 16,
   "metadata": {},
   "outputs": [],
   "source": [
    "def print_error_and_ms(ms, error):\n",
    "    print(f\"Average Training Time {ms}, Average Error Cost {error}\")\n",
    "    "
   ]
  },
  {
   "cell_type": "markdown",
   "metadata": {},
   "source": [
    "## split train and test data"
   ]
  },
  {
   "cell_type": "code",
   "execution_count": 17,
   "metadata": {},
   "outputs": [],
   "source": [
    "from sklearn.model_selection import train_test_split\n",
    "X_train, X_test, y_train, y_test = train_test_split(X_scaled, Y, train_size=0.7) "
   ]
  },
  {
   "cell_type": "markdown",
   "metadata": {},
   "source": [
    "# 3. Linear Classification"
   ]
  },
  {
   "cell_type": "markdown",
   "metadata": {},
   "source": [
    "## 3.1 Perceptron"
   ]
  },
  {
   "cell_type": "markdown",
   "metadata": {},
   "source": [
    "### 3.1.1 test with default parameters"
   ]
  },
  {
   "cell_type": "code",
   "execution_count": 18,
   "metadata": {},
   "outputs": [
    {
     "name": "stdout",
     "output_type": "stream",
     "text": [
      "                                  Linear Classification : Perceptron Results                                  \n",
      "#         Training Time (ms)                      Error (cost)                            Score (%)                               \n",
      "--------------------------------------------------------------------------------------------------------------\n",
      "1         301.25                                  0.014817                                0.9852                                  \n",
      "2         302.56                                  0.014817                                0.9852                                  \n",
      "3         296.19                                  0.014817                                0.9852                                  \n",
      "4         297.45                                  0.014817                                0.9852                                  \n",
      "5         294.31                                  0.014817                                0.9852                                  \n",
      "--------------------------------------------------------------------------------------------------------------\n",
      "Average   298.35                                  0.014817                                0.9852                                  \n"
     ]
    }
   ],
   "source": [
    "from sklearn.linear_model import Perceptron\n",
    "models = test_model_avg(lambda: Perceptron(), lambda x: x.fit(X_train, y_train), X_test, y_test, \"Linear Classification : Perceptron Results\")"
   ]
  },
  {
   "cell_type": "code",
   "execution_count": 19,
   "metadata": {},
   "outputs": [
    {
     "data": {
      "image/png": "[encoded data removed]",
      "text/plain": [
       "<Figure size 864x432 with 2 Axes>"
      ]
     },
     "metadata": {
      "needs_background": "light"
     },
     "output_type": "display_data"
    }
   ],
   "source": [
    "feature_importances = average_feature_importance(models, lambda x: x.coef_[0])\n",
    "class_0_feature_list, class_1_feature_list = calculate_feature_importance(feature_importances)\n",
    "fig = visualize_feature_importance(class_0_feature_list, class_1_feature_list, X_columns)\n",
    "None\n",
    "fig.savefig(\"graphs/perceptron_feature_importance_weights.pdf\")"
   ]
  },
  {
   "cell_type": "code",
   "execution_count": 20,
   "metadata": {},
   "outputs": [
    {
     "data": {
      "image/png": "[encoded data removed]",
      "text/plain": [
       "<Figure size 864x432 with 1 Axes>"
      ]
     },
     "metadata": {
      "needs_background": "light"
     },
     "output_type": "display_data"
    }
   ],
   "source": [
    "feature_importances = average_feature_importance(models, lambda x: sckit_permutation_importance(x,X_test,y_test))\n",
    "fig = visualize_feature_importance(feature_importances, [], X_columns, 6, 1)\n",
    "plt.title(\"Feature Importance\")\n",
    "fig.savefig(\"graphs/perceptron_feature_importance.pdf\")\n",
    "None"
   ]
  },
  {
   "cell_type": "code",
   "execution_count": 21,
   "metadata": {},
   "outputs": [
    {
     "data": {
      "image/png": "[encoded data removed]",
      "text/plain": [
       "<Figure size 432x288 with 2 Axes>"
      ]
     },
     "metadata": {
      "needs_background": "light"
     },
     "output_type": "display_data"
    }
   ],
   "source": [
    "fig = visualize_decision_boundary(models[0], feature_importances[0][0], feature_importances[1][0], X_train, y_train, X_test, y_test, X_columns)\n",
    "fig.savefig(\"graphs/perceptron_decision_boundary.jpeg\")"
   ]
  },
  {
   "cell_type": "markdown",
   "metadata": {},
   "source": [
    "## 3.2 Logistic Regression"
   ]
  },
  {
   "cell_type": "code",
   "execution_count": 22,
   "metadata": {},
   "outputs": [
    {
     "name": "stdout",
     "output_type": "stream",
     "text": [
      "                              Linear Classification : LogisticRegression Results                              \n",
      "#         Training Time (ms)                      Error (cost)                            Score (%)                               \n",
      "--------------------------------------------------------------------------------------------------------------\n",
      "1         2589.36                                 0.014983                                0.9850                                  \n",
      "2         2459.99                                 0.014983                                0.9850                                  \n",
      "3         2482.54                                 0.014983                                0.9850                                  \n",
      "4         2471.48                                 0.014983                                0.9850                                  \n",
      "5         2497.44                                 0.014983                                0.9850                                  \n",
      "--------------------------------------------------------------------------------------------------------------\n",
      "Average   2500.16                                 0.014983                                0.9850                                  \n"
     ]
    }
   ],
   "source": [
    "from sklearn.linear_model import LogisticRegression\n",
    "models = test_model_avg(lambda: LogisticRegression(max_iter=10000), lambda x: x.fit(X_train, y_train), X_test, y_test, \"Linear Classification : LogisticRegression Results\")"
   ]
  },
  {
   "cell_type": "code",
   "execution_count": 23,
   "metadata": {},
   "outputs": [
    {
     "data": {
      "image/png": "[encoded data removed]",
      "text/plain": [
       "<Figure size 864x432 with 2 Axes>"
      ]
     },
     "metadata": {
      "needs_background": "light"
     },
     "output_type": "display_data"
    }
   ],
   "source": [
    "feature_importances = average_feature_importance(models, lambda x: x.coef_[0])\n",
    "class_0_feature_list, class_1_feature_list = calculate_feature_importance(feature_importances)\n",
    "fig = visualize_feature_importance(class_0_feature_list, class_1_feature_list, X_columns)\n",
    "None\n",
    "fig.savefig(\"graphs/logisticregression_feature_importance_weights.pdf\")"
   ]
  },
  {
   "cell_type": "code",
   "execution_count": 24,
   "metadata": {},
   "outputs": [
    {
     "data": {
      "image/png": "[encoded data removed]",
      "text/plain": [
       "<Figure size 864x432 with 1 Axes>"
      ]
     },
     "metadata": {
      "needs_background": "light"
     },
     "output_type": "display_data"
    }
   ],
   "source": [
    "feature_importances = average_feature_importance(models, lambda x: sckit_permutation_importance(x,X_test,y_test))\n",
    "fig = visualize_feature_importance(feature_importances, [], X_columns, 6, 1)\n",
    "plt.title(\"Feature Importance\")\n",
    "fig.savefig(\"graphs/logisticregression_feature_importance.pdf\")\n",
    "None"
   ]
  },
  {
   "cell_type": "code",
   "execution_count": 25,
   "metadata": {},
   "outputs": [
    {
     "data": {
      "image/png": "[encoded data removed]",
      "text/plain": [
       "<Figure size 432x288 with 2 Axes>"
      ]
     },
     "metadata": {
      "needs_background": "light"
     },
     "output_type": "display_data"
    }
   ],
   "source": [
    "fig = visualize_decision_boundary(models[0], class_0_feature_list[0][0], class_1_feature_list[1][0], X_train, y_train, X_test, y_test, X_columns)\n",
    "\n",
    "fig.savefig(\"graphs/logisticregression_decision_boundary.jpeg\")"
   ]
  },
  {
   "cell_type": "markdown",
   "metadata": {},
   "source": [
    "## 3.3 SGDClassifier"
   ]
  },
  {
   "cell_type": "code",
   "execution_count": 26,
   "metadata": {},
   "outputs": [
    {
     "name": "stdout",
     "output_type": "stream",
     "text": [
      "                                Linear Classification : SGDClassifier Results                                 \n",
      "#         Training Time (ms)                      Error (cost)                            Score (%)                               \n",
      "--------------------------------------------------------------------------------------------------------------\n",
      "1         206.15                                  0.017627                                0.9824                                  \n",
      "2         206.15                                  0.019390                                0.9806                                  \n",
      "3         214.87                                  0.018866                                0.9811                                  \n",
      "4         201.85                                  0.017651                                0.9823                                  \n",
      "5         208.98                                  0.017199                                0.9828                                  \n",
      "--------------------------------------------------------------------------------------------------------------\n",
      "Average   207.60                                  0.018147                                0.9819                                  \n"
     ]
    }
   ],
   "source": [
    "from sklearn.linear_model import SGDClassifier\n",
    "models = test_model_avg(lambda: SGDClassifier(), lambda x: x.fit(X_train, y_train), X_test, y_test, \"Linear Classification : SGDClassifier Results\")"
   ]
  },
  {
   "cell_type": "code",
   "execution_count": 27,
   "metadata": {},
   "outputs": [
    {
     "data": {
      "image/png": "[encoded data removed]",
      "text/plain": [
       "<Figure size 864x432 with 2 Axes>"
      ]
     },
     "metadata": {
      "needs_background": "light"
     },
     "output_type": "display_data"
    }
   ],
   "source": [
    "feature_importances = average_feature_importance(models, lambda x: x.coef_[0])\n",
    "class_0_feature_list, class_1_feature_list = calculate_feature_importance(feature_importances)\n",
    "fig = visualize_feature_importance(class_0_feature_list, class_1_feature_list, X_columns)\n",
    "None\n",
    "fig.savefig(\"graphs/sgdclassifier_feature_importance_weights.pdf\")"
   ]
  },
  {
   "cell_type": "code",
   "execution_count": 28,
   "metadata": {},
   "outputs": [
    {
     "data": {
      "image/png": "[encoded data removed]",
      "text/plain": [
       "<Figure size 864x432 with 1 Axes>"
      ]
     },
     "metadata": {
      "needs_background": "light"
     },
     "output_type": "display_data"
    }
   ],
   "source": [
    "feature_importances = average_feature_importance(models, lambda x: sckit_permutation_importance(x,X_test,y_test))\n",
    "fig = visualize_feature_importance(feature_importances, [], X_columns, 6, 1)\n",
    "plt.title(\"Feature Importance\")\n",
    "fig.savefig(\"graphs/sgdclassifier_feature_importance.pdf\")\n",
    "None"
   ]
  },
  {
   "cell_type": "code",
   "execution_count": 29,
   "metadata": {},
   "outputs": [
    {
     "data": {
      "image/png": "[encoded data removed]",
      "text/plain": [
       "<Figure size 432x288 with 2 Axes>"
      ]
     },
     "metadata": {
      "needs_background": "light"
     },
     "output_type": "display_data"
    }
   ],
   "source": [
    "fig = visualize_decision_boundary(models[0], feature_importances[0][0], feature_importances[1][0], X_train, y_train, X_test, y_test, X_columns)\n",
    "fig.savefig(\"graphs/sgdclassifier_decision_boundary.pdf\")"
   ]
  },
  {
   "cell_type": "markdown",
   "metadata": {},
   "source": [
    "# 4 Neural Network-based Classification"
   ]
  },
  {
   "cell_type": "markdown",
   "metadata": {},
   "source": [
    "## 4.1 MLPClassifier"
   ]
  },
  {
   "cell_type": "code",
   "execution_count": 30,
   "metadata": {},
   "outputs": [
    {
     "ename": "SyntaxError",
     "evalue": "invalid syntax (<ipython-input-30-176738f28ce9>, line 2)",
     "output_type": "error",
     "traceback": [
      "\u001b[0;36m  File \u001b[0;32m\"<ipython-input-30-176738f28ce9>\"\u001b[0;36m, line \u001b[0;32m2\u001b[0m\n\u001b[0;31m    models = test_mod el_avg(lambda: MLPClassifier(), lambda x: x.fit(X_train, y_train), X_test, y_test, \"Neural Network-based Classification : MLPClassifier Results\", simulation_count=5)\u001b[0m\n\u001b[0m                      ^\u001b[0m\n\u001b[0;31mSyntaxError\u001b[0m\u001b[0;31m:\u001b[0m invalid syntax\n"
     ]
    }
   ],
   "source": [
    "from sklearn.neural_network import MLPClassifier\n",
    "models = test_model_avg(lambda: MLPClassifier(), lambda x: x.fit(X_train, y_train), X_test, y_test, \"Neural Network-based Classification : MLPClassifier Results\", simulation_count=5)"
   ]
  },
  {
   "cell_type": "code",
   "execution_count": null,
   "metadata": {},
   "outputs": [],
   "source": [
    "feature_importances = average_feature_importance(models, lambda x: sckit_permutation_importance(x,X_test,y_test))\n",
    "fig = visualize_feature_importance(feature_importances, [], X_columns, 6, 1)\n",
    "plt.title(\"Feature Importance\")\n",
    "None\n",
    "fig.savefig(\"graphs/mlpclassifier_feature_importance.pdf\")"
   ]
  },
  {
   "cell_type": "markdown",
   "metadata": {},
   "source": [
    "# 5 Clustering"
   ]
  },
  {
   "cell_type": "markdown",
   "metadata": {},
   "source": [
    "## 5.1 Clustering"
   ]
  },
  {
   "cell_type": "code",
   "execution_count": null,
   "metadata": {},
   "outputs": [],
   "source": [
    "from sklearn.cluster import KMeans\n",
    "models = test_model_avg(lambda: KMeans(n_clusters=2), lambda x: x.fit(X_train, y_train), X_test, y_test, \"Clustering : KMeans Results\")"
   ]
  },
  {
   "cell_type": "code",
   "execution_count": null,
   "metadata": {},
   "outputs": [],
   "source": [
    "feature_importances = average_feature_importance(models, lambda x: sckit_permutation_importance(x,X_test,y_test))\n",
    "fig = visualize_feature_importance(feature_importances, [], X_columns, 6, 1)\n",
    "plt.title(\"Feature Importance\")\n",
    "fig.savefig(\"graphs/kmeans_feature_importance.pdf\")\n",
    "None"
   ]
  },
  {
   "cell_type": "code",
   "execution_count": null,
   "metadata": {},
   "outputs": [],
   "source": [
    "from sklearn.cluster import MiniBatchKMeans\n",
    "km = MiniBatchKMeans(\n",
    "    n_clusters=2,\n",
    "    init=\"random\",\n",
    "    random_state=95)\n",
    "\n",
    "yp=Y\n",
    "#visualize\n",
    "fig, plt_iterations = plt.subplots(3, 3, figsize=(7,5))\n",
    "plt_iterations = plt_iterations.reshape(9)\n",
    "fig.set_size_inches(10,10)\n",
    "for x in range(9):\n",
    "  km.partial_fit(X)\n",
    "  yp = km.labels_\n",
    "  plt_iterations[x].plot(X[yp==0,18], X[yp==0,35], 'rx', markerfacecolor=\"w\")\n",
    "  plt_iterations[x].plot(X[yp==1,18], X[yp==1,35], 'bx', markerfacecolor=\"w\")\n",
    "  plt_iterations[x].plot(km.cluster_centers_[:, 18], km.cluster_centers_[:, 35], 'ko')\n",
    "  plt_iterations[x].set_title(f\"Iteration: {x}\")\n",
    "  plt_iterations[x].axis('off')\n",
    "#plt.close()\n",
    "None\n",
    "fig.savefig(\"graphs/kmeans_clustering_progress.jpeg\")\n"
   ]
  },
  {
   "cell_type": "markdown",
   "metadata": {},
   "source": [
    "#### "
   ]
  }
 ],
 "metadata": {
  "kernelspec": {
   "display_name": "Python 3",
   "language": "python",
   "name": "python3"
  },
  "language_info": {
   "codemirror_mode": {
    "name": "ipython",
    "version": 3
   },
   "file_extension": ".py",
   "mimetype": "text/x-python",
   "name": "python",
   "nbconvert_exporter": "python",
   "pygments_lexer": "ipython3",
   "version": "3.8.5"
  }
 },
 "nbformat": 4,
 "nbformat_minor": 4
}
