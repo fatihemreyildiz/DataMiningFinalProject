{
 "metadata": {
  "language_info": {
   "codemirror_mode": {
    "name": "ipython",
    "version": 3
   },
   "file_extension": ".py",
   "mimetype": "text/x-python",
   "name": "python",
   "nbconvert_exporter": "python",
   "pygments_lexer": "ipython3",
   "version": "3.8.5-final"
  },
  "orig_nbformat": 2,
  "kernelspec": {
   "name": "python3",
   "display_name": "Python 3"
  }
 },
 "nbformat": 4,
 "nbformat_minor": 2,
 "cells": [
  {
   "cell_type": "code",
   "execution_count": 7,
   "metadata": {},
   "outputs": [],
   "source": [
    "import pandas as pd\n",
    "import numpy as np"
   ]
  },
  {
   "source": [
    "# Load CSV Files"
   ],
   "cell_type": "markdown",
   "metadata": {}
  },
  {
   "cell_type": "code",
   "execution_count": 8,
   "metadata": {},
   "outputs": [],
   "source": [
    "dataset1 = pd.read_csv(\"dataset/Challenger_Ranked_Games.csv\")\n",
    "dataset2 = pd.read_csv(\"dataset/GrandMaster_Ranked_Games.csv\")\n",
    "dataset3 = pd.read_csv(\"dataset/Master_Ranked_Games.csv\")"
   ]
  },
  {
   "source": [
    "# Combine CSV Files"
   ],
   "cell_type": "markdown",
   "metadata": {}
  },
  {
   "cell_type": "code",
   "execution_count": 9,
   "metadata": {},
   "outputs": [
    {
     "output_type": "execute_result",
     "data": {
      "text/plain": [
       "            gameId  gameDuraton  blueWins  blueFirstBlood  blueFirstTower  \\\n",
       "0       4247263043         1323         0               1               0   \n",
       "1       4247155821         1317         1               0               0   \n",
       "2       4243963257          932         0               0               0   \n",
       "3       4241678498         2098         0               0               0   \n",
       "4       4241538868         2344         1               1               1   \n",
       "...            ...          ...       ...             ...             ...   \n",
       "199920  4216107910         2479         1               1               0   \n",
       "199921  4031558534          932         0               0               0   \n",
       "199922  3882136458         2081         0               1               1   \n",
       "199923  4137464714         1619         0               0               0   \n",
       "199924  4195660684         1129         1               0               1   \n",
       "\n",
       "        blueFirstBaron  blueFirstDragon  blueFirstInhibitor  blueDragonKills  \\\n",
       "0                    0                0                   0                0   \n",
       "1                    0                1                   0                2   \n",
       "2                    0                0                   0                0   \n",
       "3                    1                1                   0                1   \n",
       "4                    1                1                   1                2   \n",
       "...                ...              ...                 ...              ...   \n",
       "199920               0                0                   0                3   \n",
       "199921               0                0                   0                0   \n",
       "199922               0                0                   0                1   \n",
       "199923               0                0                   0                1   \n",
       "199924               0                0                   1                1   \n",
       "\n",
       "        blueBaronKills  ...  redAssist  redChampionDamageDealt  redTotalGold  \\\n",
       "0                    0  ...         68                   73016         49832   \n",
       "1                    0  ...          8                   44218         37136   \n",
       "2                    0  ...         20                   30797         35364   \n",
       "3                    1  ...         72                  125866         70528   \n",
       "4                    2  ...         83                  131536         74596   \n",
       "...                ...  ...        ...                     ...           ...   \n",
       "199920               1  ...         41                  149798         72167   \n",
       "199921               0  ...         26                   37534         32931   \n",
       "199922               0  ...         68                   97369         71576   \n",
       "199923               0  ...         68                  116262         59001   \n",
       "199924               0  ...          4                   33263         26963   \n",
       "\n",
       "        redTotalMinionKills  redTotalLevel  redAvgLevel  redJungleMinionKills  \\\n",
       "0                       533             64         12.8                   138   \n",
       "1                       571             59         11.8                   134   \n",
       "2                       400             50         10.0                    89   \n",
       "3                       832             84         16.8                   205   \n",
       "4                       794             85         17.0                   227   \n",
       "...                     ...            ...          ...                   ...   \n",
       "199920                  789             86         17.2                   258   \n",
       "199921                  364             51         10.2                   110   \n",
       "199922                  797             85         17.0                   222   \n",
       "199923                  524             72         14.4                   162   \n",
       "199924                  423             47          9.4                    71   \n",
       "\n",
       "        redKillingSpree  redTotalHeal  redObjectDamageDealt  \n",
       "0                     8         38711                 60463  \n",
       "1                     3         24829                 14105  \n",
       "2                     5         12589                 45201  \n",
       "3                     9         65312                 88202  \n",
       "4                     7         86431                 64141  \n",
       "...                 ...           ...                   ...  \n",
       "199920                6         34890                 62124  \n",
       "199921                5         11983                 31400  \n",
       "199922                8         33499                 79612  \n",
       "199923               11         52292                 60903  \n",
       "199924                1         12749                  8035  \n",
       "\n",
       "[199925 rows x 50 columns]"
      ],
      "text/html": "<div>\n<style scoped>\n    .dataframe tbody tr th:only-of-type {\n        vertical-align: middle;\n    }\n\n    .dataframe tbody tr th {\n        vertical-align: top;\n    }\n\n    .dataframe thead th {\n        text-align: right;\n    }\n</style>\n<table border=\"1\" class=\"dataframe\">\n  <thead>\n    <tr style=\"text-align: right;\">\n      <th></th>\n      <th>gameId</th>\n      <th>gameDuraton</th>\n      <th>blueWins</th>\n      <th>blueFirstBlood</th>\n      <th>blueFirstTower</th>\n      <th>blueFirstBaron</th>\n      <th>blueFirstDragon</th>\n      <th>blueFirstInhibitor</th>\n      <th>blueDragonKills</th>\n      <th>blueBaronKills</th>\n      <th>...</th>\n      <th>redAssist</th>\n      <th>redChampionDamageDealt</th>\n      <th>redTotalGold</th>\n      <th>redTotalMinionKills</th>\n      <th>redTotalLevel</th>\n      <th>redAvgLevel</th>\n      <th>redJungleMinionKills</th>\n      <th>redKillingSpree</th>\n      <th>redTotalHeal</th>\n      <th>redObjectDamageDealt</th>\n    </tr>\n  </thead>\n  <tbody>\n    <tr>\n      <th>0</th>\n      <td>4247263043</td>\n      <td>1323</td>\n      <td>0</td>\n      <td>1</td>\n      <td>0</td>\n      <td>0</td>\n      <td>0</td>\n      <td>0</td>\n      <td>0</td>\n      <td>0</td>\n      <td>...</td>\n      <td>68</td>\n      <td>73016</td>\n      <td>49832</td>\n      <td>533</td>\n      <td>64</td>\n      <td>12.8</td>\n      <td>138</td>\n      <td>8</td>\n      <td>38711</td>\n      <td>60463</td>\n    </tr>\n    <tr>\n      <th>1</th>\n      <td>4247155821</td>\n      <td>1317</td>\n      <td>1</td>\n      <td>0</td>\n      <td>0</td>\n      <td>0</td>\n      <td>1</td>\n      <td>0</td>\n      <td>2</td>\n      <td>0</td>\n      <td>...</td>\n      <td>8</td>\n      <td>44218</td>\n      <td>37136</td>\n      <td>571</td>\n      <td>59</td>\n      <td>11.8</td>\n      <td>134</td>\n      <td>3</td>\n      <td>24829</td>\n      <td>14105</td>\n    </tr>\n    <tr>\n      <th>2</th>\n      <td>4243963257</td>\n      <td>932</td>\n      <td>0</td>\n      <td>0</td>\n      <td>0</td>\n      <td>0</td>\n      <td>0</td>\n      <td>0</td>\n      <td>0</td>\n      <td>0</td>\n      <td>...</td>\n      <td>20</td>\n      <td>30797</td>\n      <td>35364</td>\n      <td>400</td>\n      <td>50</td>\n      <td>10.0</td>\n      <td>89</td>\n      <td>5</td>\n      <td>12589</td>\n      <td>45201</td>\n    </tr>\n    <tr>\n      <th>3</th>\n      <td>4241678498</td>\n      <td>2098</td>\n      <td>0</td>\n      <td>0</td>\n      <td>0</td>\n      <td>1</td>\n      <td>1</td>\n      <td>0</td>\n      <td>1</td>\n      <td>1</td>\n      <td>...</td>\n      <td>72</td>\n      <td>125866</td>\n      <td>70528</td>\n      <td>832</td>\n      <td>84</td>\n      <td>16.8</td>\n      <td>205</td>\n      <td>9</td>\n      <td>65312</td>\n      <td>88202</td>\n    </tr>\n    <tr>\n      <th>4</th>\n      <td>4241538868</td>\n      <td>2344</td>\n      <td>1</td>\n      <td>1</td>\n      <td>1</td>\n      <td>1</td>\n      <td>1</td>\n      <td>1</td>\n      <td>2</td>\n      <td>2</td>\n      <td>...</td>\n      <td>83</td>\n      <td>131536</td>\n      <td>74596</td>\n      <td>794</td>\n      <td>85</td>\n      <td>17.0</td>\n      <td>227</td>\n      <td>7</td>\n      <td>86431</td>\n      <td>64141</td>\n    </tr>\n    <tr>\n      <th>...</th>\n      <td>...</td>\n      <td>...</td>\n      <td>...</td>\n      <td>...</td>\n      <td>...</td>\n      <td>...</td>\n      <td>...</td>\n      <td>...</td>\n      <td>...</td>\n      <td>...</td>\n      <td>...</td>\n      <td>...</td>\n      <td>...</td>\n      <td>...</td>\n      <td>...</td>\n      <td>...</td>\n      <td>...</td>\n      <td>...</td>\n      <td>...</td>\n      <td>...</td>\n      <td>...</td>\n    </tr>\n    <tr>\n      <th>199920</th>\n      <td>4216107910</td>\n      <td>2479</td>\n      <td>1</td>\n      <td>1</td>\n      <td>0</td>\n      <td>0</td>\n      <td>0</td>\n      <td>0</td>\n      <td>3</td>\n      <td>1</td>\n      <td>...</td>\n      <td>41</td>\n      <td>149798</td>\n      <td>72167</td>\n      <td>789</td>\n      <td>86</td>\n      <td>17.2</td>\n      <td>258</td>\n      <td>6</td>\n      <td>34890</td>\n      <td>62124</td>\n    </tr>\n    <tr>\n      <th>199921</th>\n      <td>4031558534</td>\n      <td>932</td>\n      <td>0</td>\n      <td>0</td>\n      <td>0</td>\n      <td>0</td>\n      <td>0</td>\n      <td>0</td>\n      <td>0</td>\n      <td>0</td>\n      <td>...</td>\n      <td>26</td>\n      <td>37534</td>\n      <td>32931</td>\n      <td>364</td>\n      <td>51</td>\n      <td>10.2</td>\n      <td>110</td>\n      <td>5</td>\n      <td>11983</td>\n      <td>31400</td>\n    </tr>\n    <tr>\n      <th>199922</th>\n      <td>3882136458</td>\n      <td>2081</td>\n      <td>0</td>\n      <td>1</td>\n      <td>1</td>\n      <td>0</td>\n      <td>0</td>\n      <td>0</td>\n      <td>1</td>\n      <td>0</td>\n      <td>...</td>\n      <td>68</td>\n      <td>97369</td>\n      <td>71576</td>\n      <td>797</td>\n      <td>85</td>\n      <td>17.0</td>\n      <td>222</td>\n      <td>8</td>\n      <td>33499</td>\n      <td>79612</td>\n    </tr>\n    <tr>\n      <th>199923</th>\n      <td>4137464714</td>\n      <td>1619</td>\n      <td>0</td>\n      <td>0</td>\n      <td>0</td>\n      <td>0</td>\n      <td>0</td>\n      <td>0</td>\n      <td>1</td>\n      <td>0</td>\n      <td>...</td>\n      <td>68</td>\n      <td>116262</td>\n      <td>59001</td>\n      <td>524</td>\n      <td>72</td>\n      <td>14.4</td>\n      <td>162</td>\n      <td>11</td>\n      <td>52292</td>\n      <td>60903</td>\n    </tr>\n    <tr>\n      <th>199924</th>\n      <td>4195660684</td>\n      <td>1129</td>\n      <td>1</td>\n      <td>0</td>\n      <td>1</td>\n      <td>0</td>\n      <td>0</td>\n      <td>1</td>\n      <td>1</td>\n      <td>0</td>\n      <td>...</td>\n      <td>4</td>\n      <td>33263</td>\n      <td>26963</td>\n      <td>423</td>\n      <td>47</td>\n      <td>9.4</td>\n      <td>71</td>\n      <td>1</td>\n      <td>12749</td>\n      <td>8035</td>\n    </tr>\n  </tbody>\n</table>\n<p>199925 rows × 50 columns</p>\n</div>"
     },
     "metadata": {},
     "execution_count": 9
    }
   ],
   "source": [
    "mergeddataset = pd.concat([dataset1,dataset2,dataset3])\n",
    "mergeddataset.reset_index(drop=True)"
   ]
  },
  {
   "source": [
    "We will Delete games which is less than 1200 seconds."
   ],
   "cell_type": "markdown",
   "metadata": {}
  },
  {
   "cell_type": "code",
   "execution_count": 10,
   "metadata": {},
   "outputs": [],
   "source": [
    "mergeddataset = mergeddataset[~(mergeddataset[\"gameDuraton\"] <1200)]"
   ]
  },
  {
   "source": [
    "we will apply reduntant features technic for 8 columns they will convert to binary presentiotan in 6 column\n",
    "B = 0, R = 1\n",
    "- (blueWins, redWins) ->winner\n",
    "- (blueFirstBlood, redFirstBlood) -> firstBlood\n",
    "- (blueFirstInhibitor, redFirstInhibitor) -> firstInhibtor \n",
    "- (blueFirstBaron, redFirstBaron) -> firstBaron\n",
    "- (blueFirstDragon, redFirstDragon) -> firstDragon\n",
    "- (blueFirstTower, redFirstTower) -> firstTower\n",
    "- (redTotalLevel, redAvgLevel) -> redAvgLevel\n",
    "- (blueTotalLevel,  blueAvgLevel) -> blueAvgLevel"
   ],
   "cell_type": "markdown",
   "metadata": {}
  },
  {
   "cell_type": "code",
   "execution_count": 11,
   "metadata": {},
   "outputs": [],
   "source": [
    "for x in ['redWins', 'redFirstBlood', 'redFirstInhibitor', 'redFirstBaron', 'redFirstDragon', 'redFirstTower', 'gameId', 'redAvgLevel', 'blueAvgLevel']:\n",
    "    del mergeddataset[x]"
   ]
  },
  {
   "cell_type": "code",
   "execution_count": 12,
   "metadata": {},
   "outputs": [
    {
     "output_type": "stream",
     "name": "stdout",
     "text": [
      "<class 'pandas.core.frame.DataFrame'>\nInt64Index: 139933 entries, 0 to 107123\nData columns (total 41 columns):\n #   Column                   Non-Null Count   Dtype\n---  ------                   --------------   -----\n 0   gameDuraton              139933 non-null  int64\n 1   blueWins                 139933 non-null  int64\n 2   blueFirstBlood           139933 non-null  int64\n 3   blueFirstTower           139933 non-null  int64\n 4   blueFirstBaron           139933 non-null  int64\n 5   blueFirstDragon          139933 non-null  int64\n 6   blueFirstInhibitor       139933 non-null  int64\n 7   blueDragonKills          139933 non-null  int64\n 8   blueBaronKills           139933 non-null  int64\n 9   blueTowerKills           139933 non-null  int64\n 10  blueInhibitorKills       139933 non-null  int64\n 11  blueWardPlaced           139933 non-null  int64\n 12  blueWardkills            139933 non-null  int64\n 13  blueKills                139933 non-null  int64\n 14  blueDeath                139933 non-null  int64\n 15  blueAssist               139933 non-null  int64\n 16  blueChampionDamageDealt  139933 non-null  int64\n 17  blueTotalGold            139933 non-null  int64\n 18  blueTotalMinionKills     139933 non-null  int64\n 19  blueTotalLevel           139933 non-null  int64\n 20  blueJungleMinionKills    139933 non-null  int64\n 21  blueKillingSpree         139933 non-null  int64\n 22  blueTotalHeal            139933 non-null  int64\n 23  blueObjectDamageDealt    139933 non-null  int64\n 24  redDragonKills           139933 non-null  int64\n 25  redBaronKills            139933 non-null  int64\n 26  redTowerKills            139933 non-null  int64\n 27  redInhibitorKills        139933 non-null  int64\n 28  redWardPlaced            139933 non-null  int64\n 29  redWardkills             139933 non-null  int64\n 30  redKills                 139933 non-null  int64\n 31  redDeath                 139933 non-null  int64\n 32  redAssist                139933 non-null  int64\n 33  redChampionDamageDealt   139933 non-null  int64\n 34  redTotalGold             139933 non-null  int64\n 35  redTotalMinionKills      139933 non-null  int64\n 36  redTotalLevel            139933 non-null  int64\n 37  redJungleMinionKills     139933 non-null  int64\n 38  redKillingSpree          139933 non-null  int64\n 39  redTotalHeal             139933 non-null  int64\n 40  redObjectDamageDealt     139933 non-null  int64\ndtypes: int64(41)\nmemory usage: 48.9 MB\n"
     ]
    }
   ],
   "source": [
    "mergeddataset.info()"
   ]
  },
  {
   "cell_type": "code",
   "execution_count": 30,
   "metadata": {},
   "outputs": [],
   "source": [
    "Y = mergeddataset[\"blueWins\"].values\n",
    "del mergeddataset[\"blueWins\"]\n",
    "X = mergeddataset.values"
   ]
  },
  {
   "cell_type": "code",
   "execution_count": 31,
   "metadata": {},
   "outputs": [],
   "source": [
    "X_columns = mergeddataset.columns"
   ]
  },
  {
   "source": [
    "We will normalize data"
   ],
   "cell_type": "markdown",
   "metadata": {}
  },
  {
   "cell_type": "code",
   "execution_count": 32,
   "metadata": {},
   "outputs": [],
   "source": [
    "from sklearn import preprocessing\n",
    "X = mergeddataset.values\n",
    "min_max_scaler = preprocessing.MinMaxScaler()\n",
    "X_scaled = min_max_scaler.fit_transform(X)"
   ]
  }
 ]
}